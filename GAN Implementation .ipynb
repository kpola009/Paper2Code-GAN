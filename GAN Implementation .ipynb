{
 "cells": [
  {
   "cell_type": "code",
   "execution_count": 25,
   "id": "7a42c849",
   "metadata": {},
   "outputs": [],
   "source": [
    "import torch \n",
    "from torch import nn\n",
    "from torch import optim\n",
    "import torchvision\n",
    "from torchvision.transforms import transforms\n",
    "import numpy as np\n",
    "from PIL import Image\n",
    "import matplotlib.pyplot as plt\n",
    "\n",
    "from tqdm.notebook import tqdm\n",
    "import warnings\n",
    "\n",
    "warnings.filterwarnings(\"ignore\")"
   ]
  },
  {
   "cell_type": "code",
   "execution_count": 26,
   "id": "beab29d7",
   "metadata": {},
   "outputs": [
    {
     "name": "stdout",
     "output_type": "stream",
     "text": [
      "torch.Size([3, 32, 32])\n"
     ]
    },
    {
     "data": {
      "image/png": "[encoded data removed]",
      "text/plain": [
       "<Figure size 432x288 with 1 Axes>"
      ]
     },
     "metadata": {
      "needs_background": "light"
     },
     "output_type": "display_data"
    }
   ],
   "source": [
    "transform = transforms.Compose([transforms.Resize((32,32)),\n",
    "                               transforms.ToTensor()])\n",
    "\n",
    "flat_img = 3072  #32x32x3 --size of the flattened Image\n",
    "\n",
    "img = Image.open('truck.jpeg')\n",
    "real_img = transform(img)\n",
    "\n",
    "torch.manual_seed(42)\n",
    "fake_img = torch.rand(1,100)\n",
    "\n",
    "real_img = transform(img)\n",
    "plt.imshow(np.transpose(real_img.numpy(), (1, 2, 0)))\n",
    "print(real_img.size())"
   ]
  },
  {
   "cell_type": "code",
   "execution_count": 3,
   "id": "36bbe8c7",
   "metadata": {},
   "outputs": [
    {
     "data": {
      "text/plain": [
       "(torch.Size([1, 100]), tensor(0.0041), tensor(0.9811))"
      ]
     },
     "execution_count": 3,
     "metadata": {},
     "output_type": "execute_result"
    }
   ],
   "source": [
    "torch.manual_seed(42)\n",
    "\n",
    "fake_img = torch.rand(1, 100)\n",
    "fake_img.size(), fake_img.min(), fake_img.max()"
   ]
  },
  {
   "cell_type": "code",
   "execution_count": 4,
   "id": "a487075b",
   "metadata": {},
   "outputs": [],
   "source": [
    "class Discriminator(nn.Module):\n",
    "    def __init__(self):\n",
    "        super().__init__()\n",
    "        self.linear = nn.Sequential(\n",
    "        nn.Linear(flat_img, 10000),\n",
    "        nn.ReLU(),\n",
    "        nn.Linear(10000, 1),\n",
    "        nn.Sigmoid())\n",
    "        \n",
    "    def forward(self, img):\n",
    "        img = img.view(1,-1)\n",
    "        out = self.linear(img)\n",
    "        \n",
    "        return out"
   ]
  },
  {
   "cell_type": "code",
   "execution_count": 5,
   "id": "2274f9ee",
   "metadata": {},
   "outputs": [],
   "source": [
    "class Generator(nn.Module):\n",
    "    def __init__(self):\n",
    "        super().__init__()\n",
    "        self.linear = nn.Sequential(\n",
    "        nn.Linear(100, 10000),\n",
    "        nn.LeakyReLU(),\n",
    "        nn.Linear(10000, 4000),\n",
    "        nn.LeakyReLU(),\n",
    "        nn.Linear(4000, flat_img))\n",
    "        \n",
    "    def forward(self, latent_space):\n",
    "        latent_space = latent_space.view(1,-1)\n",
    "        \n",
    "        out = self.linear(latent_space)\n",
    "        \n",
    "        return out"
   ]
  },
  {
   "cell_type": "code",
   "execution_count": 6,
   "id": "61bac128",
   "metadata": {},
   "outputs": [],
   "source": [
    "device = 'cuda:0' if torch.cuda.is_available() else 'cpu'\n",
    "    \n",
    "discr = Discriminator().to(device)\n",
    "gen = Generator().to(device)"
   ]
  },
  {
   "cell_type": "code",
   "execution_count": 7,
   "id": "e1ae59af",
   "metadata": {},
   "outputs": [],
   "source": [
    "opt_d = optim.SGD(discr.parameters(), lr=0.001, momentum=0.9)\n",
    "opt_g = optim.SGD(gen.parameters(), lr=0.001, momentum=0.9)\n",
    "\n",
    "criterion = nn.BCELoss()"
   ]
  },
  {
   "cell_type": "code",
   "execution_count": 8,
   "id": "d7e89fc2",
   "metadata": {},
   "outputs": [
    {
     "data": {
      "application/vnd.jupyter.widget-view+json": {
       "model_id": "612bdf0bf4aa461f905084be632dce10",
       "version_major": 2,
       "version_minor": 0
      },
      "text/plain": [
       "  0%|          | 0/500 [00:00<?, ?it/s]"
      ]
     },
     "metadata": {},
     "output_type": "display_data"
    }
   ],
   "source": [
    "epochs = 500\n",
    "discr_e = 4\n",
    "gen_e = 3\n",
    "\n",
    "for epoch in tqdm(range(epochs), total=epochs):\n",
    "    \n",
    "    for k in range(discr_e):\n",
    "        opt_d.zero_grad()\n",
    "        out_d1 = discr(real_img.to(device))\n",
    "        loss_d1 = criterion(out_d1, torch.ones((1, 1)).to(device))\n",
    "        loss_d1.backward()\n",
    "        \n",
    "        \n",
    "        out_d2 = gen(fake_img.to(device)).detach()\n",
    "        loss_d2 = criterion(discr(out_d2.to(device)), torch.zeros((1, 1)).to(device))\n",
    "        loss_d2.backward()\n",
    "\n",
    "        opt_d.step()\n",
    "\n",
    "    for i in range(gen_e):\n",
    "        opt_g.zero_grad()\n",
    "    \n",
    "        out_g = gen(fake_img.to(device))\n",
    "    #loss_g =  criterion(discr(out_g.to(device)), torch.ones(1, 1).to(device))\n",
    "\n",
    "    #----Loss function in the GAN paper\n",
    "        loss_g = 1.0 - (discr(out_g.to(device))) \n",
    "        loss_g.backward()\n",
    "\n",
    "        opt_g.step()    "
   ]
  },
  {
   "cell_type": "code",
   "execution_count": 9,
   "id": "036e4e06",
   "metadata": {},
   "outputs": [
    {
     "name": "stderr",
     "output_type": "stream",
     "text": [
      "Clipping input data to the valid range for imshow with RGB data ([0..1] for floats or [0..255] for integers).\n"
     ]
    },
    {
     "data": {
      "image/png": "[encoded data removed]",
      "text/plain": [
       "<Figure size 576x576 with 2 Axes>"
      ]
     },
     "metadata": {},
     "output_type": "display_data"
    }
   ],
   "source": [
    "plt.figure(figsize=(8, 8))\n",
    "\n",
    "plt.subplot(1, 2, 1)\n",
    "plt.title(\"Generated Image\")\n",
    "plt.xticks([])\n",
    "plt.yticks([])\n",
    "plt.imshow(np.transpose(out_g.resize(3, 32, 32).cpu().detach().numpy(), (1, 2, 0)))\n",
    "\n",
    "plt.subplot(1, 2, 2)\n",
    "plt.title(\"Original Image\")\n",
    "plt.xticks([])\n",
    "plt.yticks([])\n",
    "plt.imshow(np.transpose(real_img.numpy(), (1, 2, 0)))\n",
    "plt.show()"
   ]
  },
  {
   "cell_type": "code",
   "execution_count": 12,
   "id": "66932dcb",
   "metadata": {},
   "outputs": [],
   "source": [
    "# Save Generative model \n",
    "torch.save(gen, \"C:/Users/ketul/Data Science/Paper2Code GAN/gen.pt\")"
   ]
  },
  {
   "cell_type": "code",
   "execution_count": 17,
   "id": "9399062f",
   "metadata": {},
   "outputs": [],
   "source": [
    "torch.save(discr, \"C:/Users/ketul/Data Science/Paper2Code GAN/discr.pt\")"
   ]
  },
  {
   "cell_type": "code",
   "execution_count": 30,
   "id": "b94d5f6d",
   "metadata": {},
   "outputs": [
    {
     "name": "stdout",
     "output_type": "stream",
     "text": [
      "Name: matplotlib\n",
      "Version: 3.5.3\n",
      "Summary: Python plotting package\n",
      "Home-page: https://matplotlib.org\n",
      "Author: John D. Hunter, Michael Droettboom\n",
      "Author-email: matplotlib-users@python.org\n",
      "License: PSF\n",
      "Location: c:\\users\\ketul\\anaconda3\\envs\\pytorch_env\\lib\\site-packages\n",
      "Requires: cycler, fonttools, kiwisolver, numpy, packaging, pillow, pyparsing, python-dateutil\n",
      "Required-by: \n"
     ]
    }
   ],
   "source": [
    "!pip show matplotlib"
   ]
  },
  {
   "cell_type": "code",
   "execution_count": null,
   "id": "726c0a21",
   "metadata": {},
   "outputs": [],
   "source": []
  }
 ],
 "metadata": {
  "kernelspec": {
   "display_name": "Python 3 (ipykernel)",
   "language": "python",
   "name": "python3"
  },
  "language_info": {
   "codemirror_mode": {
    "name": "ipython",
    "version": 3
   },
   "file_extension": ".py",
   "mimetype": "text/x-python",
   "name": "python",
   "nbconvert_exporter": "python",
   "pygments_lexer": "ipython3",
   "version": "3.9.16"
  }
 },
 "nbformat": 4,
 "nbformat_minor": 5
}
